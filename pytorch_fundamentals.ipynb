{
  "nbformat": 4,
  "nbformat_minor": 0,
  "metadata": {
    "colab": {
      "name": "pytorch_fundamentals.ipynb",
      "provenance": [],
      "authorship_tag": "ABX9TyPdtoXgwNPrkXqztp5ryDhl",
      "include_colab_link": true
    },
    "kernelspec": {
      "name": "python3",
      "display_name": "Python 3"
    },
    "language_info": {
      "name": "python"
    }
  },
  "cells": [
    {
      "cell_type": "markdown",
      "metadata": {
        "id": "view-in-github",
        "colab_type": "text"
      },
      "source": [
        "<a href=\"https://colab.research.google.com/github/joybangla71/PyTorch_handson/blob/main/pytorch_fundamentals.ipynb\" target=\"_parent\"><img src=\"https://colab.research.google.com/assets/colab-badge.svg\" alt=\"Open In Colab\"/></a>"
      ]
    },
    {
      "cell_type": "code",
      "execution_count": 1,
      "metadata": {
        "colab": {
          "base_uri": "https://localhost:8080/"
        },
        "id": "AxVUQaeSHOVK",
        "outputId": "88fa30c6-442d-49bc-baeb-194ec191683c"
      },
      "outputs": [
        {
          "output_type": "stream",
          "name": "stdout",
          "text": [
            "1.12.1+cu113\n"
          ]
        }
      ],
      "source": [
        "import torch\n",
        "import pandas as pd\n",
        "import numpy as np\n",
        "import matplotlib as plt\n",
        "print(torch.__version__)"
      ]
    },
    {
      "cell_type": "markdown",
      "source": [
        "## Introduction to Tensors\n",
        "\n",
        "### Creating tensors"
      ],
      "metadata": {
        "id": "RY2DUQphIgBn"
      }
    },
    {
      "cell_type": "code",
      "source": [
        "# scalar\n",
        "scalar = torch.tensor(7)\n",
        "scalar"
      ],
      "metadata": {
        "colab": {
          "base_uri": "https://localhost:8080/"
        },
        "id": "SJLaCiryIexb",
        "outputId": "200f2d81-7229-4491-ebcb-a53eff144e91"
      },
      "execution_count": 2,
      "outputs": [
        {
          "output_type": "execute_result",
          "data": {
            "text/plain": [
              "tensor(7)"
            ]
          },
          "metadata": {},
          "execution_count": 2
        }
      ]
    },
    {
      "cell_type": "code",
      "source": [
        "scalar.ndim"
      ],
      "metadata": {
        "colab": {
          "base_uri": "https://localhost:8080/"
        },
        "id": "oWGJ7bGtI3Tv",
        "outputId": "23b56d16-0138-4f8b-e07c-944b3a8cfc66"
      },
      "execution_count": 3,
      "outputs": [
        {
          "output_type": "execute_result",
          "data": {
            "text/plain": [
              "0"
            ]
          },
          "metadata": {},
          "execution_count": 3
        }
      ]
    },
    {
      "cell_type": "code",
      "source": [
        "scalar.item()"
      ],
      "metadata": {
        "colab": {
          "base_uri": "https://localhost:8080/"
        },
        "id": "0pBMog7eJhK2",
        "outputId": "fedafe65-638b-4c98-e4ed-7d28ad366aa5"
      },
      "execution_count": 4,
      "outputs": [
        {
          "output_type": "execute_result",
          "data": {
            "text/plain": [
              "7"
            ]
          },
          "metadata": {},
          "execution_count": 4
        }
      ]
    },
    {
      "cell_type": "code",
      "source": [
        "# Vector\n",
        "vector = torch.tensor([7, 7])"
      ],
      "metadata": {
        "id": "NXeRpjpcJsAr"
      },
      "execution_count": 5,
      "outputs": []
    },
    {
      "cell_type": "code",
      "source": [
        "vector.ndim"
      ],
      "metadata": {
        "colab": {
          "base_uri": "https://localhost:8080/"
        },
        "id": "k1NYXibLJ22S",
        "outputId": "6872cf51-ff89-4412-897c-a0468639c028"
      },
      "execution_count": 6,
      "outputs": [
        {
          "output_type": "execute_result",
          "data": {
            "text/plain": [
              "1"
            ]
          },
          "metadata": {},
          "execution_count": 6
        }
      ]
    },
    {
      "cell_type": "code",
      "source": [
        "vector.shape"
      ],
      "metadata": {
        "colab": {
          "base_uri": "https://localhost:8080/"
        },
        "id": "EhNBaYuVJ43J",
        "outputId": "f265ab71-1cbe-4526-ab6d-7b068795d13d"
      },
      "execution_count": 7,
      "outputs": [
        {
          "output_type": "execute_result",
          "data": {
            "text/plain": [
              "torch.Size([2])"
            ]
          },
          "metadata": {},
          "execution_count": 7
        }
      ]
    },
    {
      "cell_type": "code",
      "source": [
        "# Matrix\n",
        "MATRIX = torch.tensor([[7, 8],\n",
        "                       [9, 10]])\n",
        "MATRIX"
      ],
      "metadata": {
        "colab": {
          "base_uri": "https://localhost:8080/"
        },
        "id": "NDGQGeDwJ8iz",
        "outputId": "7cd05a19-17d7-4944-a005-78006c497184"
      },
      "execution_count": 8,
      "outputs": [
        {
          "output_type": "execute_result",
          "data": {
            "text/plain": [
              "tensor([[ 7,  8],\n",
              "        [ 9, 10]])"
            ]
          },
          "metadata": {},
          "execution_count": 8
        }
      ]
    },
    {
      "cell_type": "code",
      "source": [
        "MATRIX.ndim"
      ],
      "metadata": {
        "colab": {
          "base_uri": "https://localhost:8080/"
        },
        "id": "xrNLLFZBKJ_C",
        "outputId": "2198a35f-245b-45cd-e2f5-3af4385b14ed"
      },
      "execution_count": 9,
      "outputs": [
        {
          "output_type": "execute_result",
          "data": {
            "text/plain": [
              "2"
            ]
          },
          "metadata": {},
          "execution_count": 9
        }
      ]
    },
    {
      "cell_type": "code",
      "source": [
        "MATRIX.shape"
      ],
      "metadata": {
        "colab": {
          "base_uri": "https://localhost:8080/"
        },
        "id": "Tl5COCO8KL9J",
        "outputId": "f632bde1-4cf8-4771-98ed-f0e6357aa537"
      },
      "execution_count": 10,
      "outputs": [
        {
          "output_type": "execute_result",
          "data": {
            "text/plain": [
              "torch.Size([2, 2])"
            ]
          },
          "metadata": {},
          "execution_count": 10
        }
      ]
    },
    {
      "cell_type": "code",
      "source": [
        "MATRIX[1]"
      ],
      "metadata": {
        "colab": {
          "base_uri": "https://localhost:8080/"
        },
        "id": "rF2zoj7cKPfQ",
        "outputId": "5e20d26d-59b7-491e-ede3-c494c9db3def"
      },
      "execution_count": 11,
      "outputs": [
        {
          "output_type": "execute_result",
          "data": {
            "text/plain": [
              "tensor([ 9, 10])"
            ]
          },
          "metadata": {},
          "execution_count": 11
        }
      ]
    },
    {
      "cell_type": "code",
      "source": [
        "# TENSOR\n",
        "TENSOR = torch.tensor([[[1, 2, 3], [4, 5, 6], [7, 8 , 9]]])"
      ],
      "metadata": {
        "id": "4mwwykUKKUpI"
      },
      "execution_count": 12,
      "outputs": []
    },
    {
      "cell_type": "code",
      "source": [
        "TENSOR.shape"
      ],
      "metadata": {
        "colab": {
          "base_uri": "https://localhost:8080/"
        },
        "id": "cRRqr_14KwS8",
        "outputId": "4a3a10e8-000e-49a7-d69d-49493e1867cd"
      },
      "execution_count": 13,
      "outputs": [
        {
          "output_type": "execute_result",
          "data": {
            "text/plain": [
              "torch.Size([1, 3, 3])"
            ]
          },
          "metadata": {},
          "execution_count": 13
        }
      ]
    },
    {
      "cell_type": "markdown",
      "source": [
        "### Random tensors\n",
        "\n",
        "Why random tensors?\n",
        "\n",
        "Neural networks takes tensors full of random numbers and performs some computation on the tensors to better represent the data.\n",
        "\n",
        "\n",
        "\n",
        "```\n",
        "Random numbers inout --> look at data --> update random numbers --> look at data --> update random numbers\n",
        "\n",
        "```\n",
        "Torch random tensors: [documentation](https://pytorch.org/docs/stable/generated/torch.rand.html)\n"
      ],
      "metadata": {
        "id": "ocfu2poNLBM6"
      }
    },
    {
      "cell_type": "code",
      "source": [
        "# Lets create a random tensor of size 3 by 4\n",
        "random_tensor = torch.rand(4, 5, 3)\n",
        "random_tensor"
      ],
      "metadata": {
        "colab": {
          "base_uri": "https://localhost:8080/"
        },
        "id": "Dwg3Jo-ONNq6",
        "outputId": "4ccef9d1-9a7a-4b9c-fa06-0dfe9451720d"
      },
      "execution_count": 14,
      "outputs": [
        {
          "output_type": "execute_result",
          "data": {
            "text/plain": [
              "tensor([[[0.9263, 0.8494, 0.9509],\n",
              "         [0.7691, 0.1351, 0.0117],\n",
              "         [0.5826, 0.3273, 0.2697],\n",
              "         [0.9017, 0.9464, 0.6945],\n",
              "         [0.0720, 0.1975, 0.5496]],\n",
              "\n",
              "        [[0.5248, 0.3425, 0.3901],\n",
              "         [0.2692, 0.7005, 0.6945],\n",
              "         [0.7432, 0.0968, 0.3450],\n",
              "         [0.8826, 0.6036, 0.5709],\n",
              "         [0.2618, 0.0966, 0.6016]],\n",
              "\n",
              "        [[0.1810, 0.5509, 0.3743],\n",
              "         [0.8944, 0.0952, 0.1579],\n",
              "         [0.5242, 0.9900, 0.3737],\n",
              "         [0.4109, 0.0256, 0.5774],\n",
              "         [0.9303, 0.6018, 0.0018]],\n",
              "\n",
              "        [[0.9524, 0.2356, 0.7597],\n",
              "         [0.4189, 0.5734, 0.5840],\n",
              "         [0.7424, 0.4856, 0.7894],\n",
              "         [0.7695, 0.6896, 0.7279],\n",
              "         [0.1000, 0.5269, 0.6207]]])"
            ]
          },
          "metadata": {},
          "execution_count": 14
        }
      ]
    },
    {
      "cell_type": "code",
      "source": [
        "random_tensor.dtype"
      ],
      "metadata": {
        "colab": {
          "base_uri": "https://localhost:8080/"
        },
        "id": "YOm54lu6NsWF",
        "outputId": "538e5b31-e8b5-49c1-d174-55c226b92485"
      },
      "execution_count": 15,
      "outputs": [
        {
          "output_type": "execute_result",
          "data": {
            "text/plain": [
              "torch.float32"
            ]
          },
          "metadata": {},
          "execution_count": 15
        }
      ]
    },
    {
      "cell_type": "markdown",
      "source": [
        "###Zeros and ones"
      ],
      "metadata": {
        "id": "8EPcayWZOrul"
      }
    },
    {
      "cell_type": "code",
      "source": [
        "zero_tensor = torch.zeros(2, 3, 3)\n",
        "zero_tensor"
      ],
      "metadata": {
        "colab": {
          "base_uri": "https://localhost:8080/"
        },
        "id": "ocYFi5wuNyIV",
        "outputId": "264c74e8-2908-4ddf-9035-1cff47d13457"
      },
      "execution_count": 16,
      "outputs": [
        {
          "output_type": "execute_result",
          "data": {
            "text/plain": [
              "tensor([[[0., 0., 0.],\n",
              "         [0., 0., 0.],\n",
              "         [0., 0., 0.]],\n",
              "\n",
              "        [[0., 0., 0.],\n",
              "         [0., 0., 0.],\n",
              "         [0., 0., 0.]]])"
            ]
          },
          "metadata": {},
          "execution_count": 16
        }
      ]
    },
    {
      "cell_type": "code",
      "source": [
        "ones_tensor = torch.ones([2, 3, 3])\n",
        "ones_tensor"
      ],
      "metadata": {
        "colab": {
          "base_uri": "https://localhost:8080/"
        },
        "id": "mOv-uycRO5cJ",
        "outputId": "91c6b34b-7420-46ba-97de-3c8b848b2b73"
      },
      "execution_count": 17,
      "outputs": [
        {
          "output_type": "execute_result",
          "data": {
            "text/plain": [
              "tensor([[[1., 1., 1.],\n",
              "         [1., 1., 1.],\n",
              "         [1., 1., 1.]],\n",
              "\n",
              "        [[1., 1., 1.],\n",
              "         [1., 1., 1.],\n",
              "         [1., 1., 1.]]])"
            ]
          },
          "metadata": {},
          "execution_count": 17
        }
      ]
    },
    {
      "cell_type": "markdown",
      "source": [
        "####We can create tensors with range of numbers"
      ],
      "metadata": {
        "id": "BNaJwmyePv9K"
      }
    },
    {
      "cell_type": "code",
      "source": [
        "one_to_ten = torch.arange(start=1, end=11, step=1)\n",
        "one_to_ten"
      ],
      "metadata": {
        "colab": {
          "base_uri": "https://localhost:8080/"
        },
        "id": "RH5CsHlUPBlv",
        "outputId": "cfd16bab-2746-41a4-cb9d-5944f4a7e3e1"
      },
      "execution_count": 18,
      "outputs": [
        {
          "output_type": "execute_result",
          "data": {
            "text/plain": [
              "tensor([ 1,  2,  3,  4,  5,  6,  7,  8,  9, 10])"
            ]
          },
          "metadata": {},
          "execution_count": 18
        }
      ]
    },
    {
      "cell_type": "markdown",
      "source": [
        "####PyTorch also allows creating similar tensors"
      ],
      "metadata": {
        "id": "-nAGQscUQebX"
      }
    },
    {
      "cell_type": "code",
      "source": [
        "all_zeros = torch.zeros_like(input=random_tensor)"
      ],
      "metadata": {
        "id": "MWG1yjGEQS-4"
      },
      "execution_count": 19,
      "outputs": []
    },
    {
      "cell_type": "code",
      "source": [
        "all_zeros"
      ],
      "metadata": {
        "colab": {
          "base_uri": "https://localhost:8080/"
        },
        "id": "5sEYPKBDQ5bh",
        "outputId": "f70fbbb1-5cb6-49b9-8a17-5affb6597109"
      },
      "execution_count": 20,
      "outputs": [
        {
          "output_type": "execute_result",
          "data": {
            "text/plain": [
              "tensor([[[0., 0., 0.],\n",
              "         [0., 0., 0.],\n",
              "         [0., 0., 0.],\n",
              "         [0., 0., 0.],\n",
              "         [0., 0., 0.]],\n",
              "\n",
              "        [[0., 0., 0.],\n",
              "         [0., 0., 0.],\n",
              "         [0., 0., 0.],\n",
              "         [0., 0., 0.],\n",
              "         [0., 0., 0.]],\n",
              "\n",
              "        [[0., 0., 0.],\n",
              "         [0., 0., 0.],\n",
              "         [0., 0., 0.],\n",
              "         [0., 0., 0.],\n",
              "         [0., 0., 0.]],\n",
              "\n",
              "        [[0., 0., 0.],\n",
              "         [0., 0., 0.],\n",
              "         [0., 0., 0.],\n",
              "         [0., 0., 0.],\n",
              "         [0., 0., 0.]]])"
            ]
          },
          "metadata": {},
          "execution_count": 20
        }
      ]
    },
    {
      "cell_type": "markdown",
      "source": [
        "### Tensor datatypes"
      ],
      "metadata": {
        "id": "Nt5rF-fsRKXf"
      }
    },
    {
      "cell_type": "code",
      "source": [
        "float_32_tensor = torch.tensor([3.0, 9.0, 6.0], dtype=None, device=None, requires_grad=False)"
      ],
      "metadata": {
        "id": "Wf9Pl4BXQ69J"
      },
      "execution_count": 21,
      "outputs": []
    },
    {
      "cell_type": "code",
      "source": [
        "float_32_tensor.dtype"
      ],
      "metadata": {
        "colab": {
          "base_uri": "https://localhost:8080/"
        },
        "id": "k36-hj_URc0l",
        "outputId": "ea6cb62b-b571-4415-8c75-e77681e2cf25"
      },
      "execution_count": 22,
      "outputs": [
        {
          "output_type": "execute_result",
          "data": {
            "text/plain": [
              "torch.float32"
            ]
          },
          "metadata": {},
          "execution_count": 22
        }
      ]
    },
    {
      "cell_type": "markdown",
      "source": [
        "In practice, we may face three major tyoes of errors related to tensor datatypes:\n",
        "\n",
        "1. Tensors not right datatype - we can invesitgate by using ```tensor.dtype```\n",
        "2. Tensors not right shape - we can invesitgate by using ```tensor.shape```\n",
        "3. Tensors not right device - we can invesitgate by using ```tensor.device```\n",
        "\n",
        "These are called tensor attributes"
      ],
      "metadata": {
        "id": "Pm_p29gHfaKj"
      }
    },
    {
      "cell_type": "code",
      "source": [
        "# let's create a random tensor\n",
        "some_tensor = torch.rand(3, 4)\n",
        "some_tensor"
      ],
      "metadata": {
        "colab": {
          "base_uri": "https://localhost:8080/"
        },
        "id": "2-vU1alDfZzH",
        "outputId": "8a57c50c-cad1-4101-e72f-dcfb155f814a"
      },
      "execution_count": 23,
      "outputs": [
        {
          "output_type": "execute_result",
          "data": {
            "text/plain": [
              "tensor([[0.6870, 0.9650, 0.8057, 0.3337],\n",
              "        [0.8726, 0.0946, 0.6567, 0.3942],\n",
              "        [0.1481, 0.0036, 0.7786, 0.1067]])"
            ]
          },
          "metadata": {},
          "execution_count": 23
        }
      ]
    },
    {
      "cell_type": "code",
      "source": [
        "# Let's check its attributes\n",
        "print(f\"Datatype: {some_tensor.dtype}\")\n",
        "print(f\"Shape: {some_tensor.shape}\")\n",
        "print(f\"Device: {some_tensor.device}\")\n",
        "print(f\"Size: {some_tensor.size()}\")"
      ],
      "metadata": {
        "colab": {
          "base_uri": "https://localhost:8080/"
        },
        "id": "Y1l7Tzr3RhIs",
        "outputId": "515434bb-434a-4c85-9117-bc270753d393"
      },
      "execution_count": 24,
      "outputs": [
        {
          "output_type": "stream",
          "name": "stdout",
          "text": [
            "Datatype: torch.float32\n",
            "Shape: torch.Size([3, 4])\n",
            "Device: cpu\n",
            "Size: torch.Size([3, 4])\n"
          ]
        }
      ]
    },
    {
      "cell_type": "code",
      "source": [
        "\n",
        "# Let's change the attributes\n",
        "some_tensor = some_tensor.type(torch.int32)\n",
        "# some_tensor = some_tensor.to(\"cuda:0\")"
      ],
      "metadata": {
        "id": "AKYMX9vwhBK2"
      },
      "execution_count": 25,
      "outputs": []
    },
    {
      "cell_type": "code",
      "source": [
        "print(f\"Datatype: {some_tensor.dtype}\")\n",
        "print(f\"Shape: {some_tensor.shape}\")\n",
        "print(f\"Device: {some_tensor.device}\")\n",
        "print(f\"Size: {some_tensor.size()}\")"
      ],
      "metadata": {
        "colab": {
          "base_uri": "https://localhost:8080/"
        },
        "id": "L8z9qCixhcpT",
        "outputId": "f62d297d-cf71-45e9-b6c5-34999249aea1"
      },
      "execution_count": 26,
      "outputs": [
        {
          "output_type": "stream",
          "name": "stdout",
          "text": [
            "Datatype: torch.int32\n",
            "Shape: torch.Size([3, 4])\n",
            "Device: cpu\n",
            "Size: torch.Size([3, 4])\n"
          ]
        }
      ]
    },
    {
      "cell_type": "code",
      "source": [
        "some_tensor # "
      ],
      "metadata": {
        "colab": {
          "base_uri": "https://localhost:8080/"
        },
        "id": "3D75mkimWJZG",
        "outputId": "9d306ea4-c46b-4142-e214-da7e08e52186"
      },
      "execution_count": 27,
      "outputs": [
        {
          "output_type": "execute_result",
          "data": {
            "text/plain": [
              "tensor([[0, 0, 0, 0],\n",
              "        [0, 0, 0, 0],\n",
              "        [0, 0, 0, 0]], dtype=torch.int32)"
            ]
          },
          "metadata": {},
          "execution_count": 27
        }
      ]
    },
    {
      "cell_type": "markdown",
      "source": [
        "## Tensor operations\n",
        "\n",
        "We can use different operations to manipulate tensors such:\n",
        "* Addition\n",
        "* Subtraction\n",
        "* Element-wise multiplication\n",
        "* Division\n",
        "* Matrix multiplication"
      ],
      "metadata": {
        "id": "cEHpQ5JRbRGj"
      }
    },
    {
      "cell_type": "code",
      "source": [
        "# create a tensor\n",
        "new_tensor = torch.tensor([1, 2, 3])\n",
        "new_tensor + 10"
      ],
      "metadata": {
        "colab": {
          "base_uri": "https://localhost:8080/"
        },
        "id": "ms72WcXOb1pR",
        "outputId": "8ab7cff7-f4b5-4484-e18b-1fbfbb5957c4"
      },
      "execution_count": 28,
      "outputs": [
        {
          "output_type": "execute_result",
          "data": {
            "text/plain": [
              "tensor([11, 12, 13])"
            ]
          },
          "metadata": {},
          "execution_count": 28
        }
      ]
    },
    {
      "cell_type": "code",
      "source": [
        "new_tensor * 10"
      ],
      "metadata": {
        "colab": {
          "base_uri": "https://localhost:8080/"
        },
        "id": "twaPZ43wcBiT",
        "outputId": "3751858a-9d9e-4e6f-a8f2-0800506517ac"
      },
      "execution_count": 29,
      "outputs": [
        {
          "output_type": "execute_result",
          "data": {
            "text/plain": [
              "tensor([10, 20, 30])"
            ]
          },
          "metadata": {},
          "execution_count": 29
        }
      ]
    },
    {
      "cell_type": "code",
      "source": [
        "new_tensor - 10"
      ],
      "metadata": {
        "colab": {
          "base_uri": "https://localhost:8080/"
        },
        "id": "2h5Aa0I0cNSb",
        "outputId": "f0319628-bacf-4db9-87d7-fd0c11b39138"
      },
      "execution_count": 30,
      "outputs": [
        {
          "output_type": "execute_result",
          "data": {
            "text/plain": [
              "tensor([-9, -8, -7])"
            ]
          },
          "metadata": {},
          "execution_count": 30
        }
      ]
    },
    {
      "cell_type": "code",
      "source": [
        "torch.mul(new_tensor, 10)"
      ],
      "metadata": {
        "colab": {
          "base_uri": "https://localhost:8080/"
        },
        "id": "3sQBDfUIcSO5",
        "outputId": "6b4808e0-b3e6-4c2a-8b9f-d00854e4284d"
      },
      "execution_count": 31,
      "outputs": [
        {
          "output_type": "execute_result",
          "data": {
            "text/plain": [
              "tensor([10, 20, 30])"
            ]
          },
          "metadata": {},
          "execution_count": 31
        }
      ]
    },
    {
      "cell_type": "code",
      "source": [
        "torch.mean(new_tensor.type(torch.float16))"
      ],
      "metadata": {
        "colab": {
          "base_uri": "https://localhost:8080/"
        },
        "id": "rmzVpH1Uccvo",
        "outputId": "a64768eb-c285-4809-a12d-a947e1863444"
      },
      "execution_count": 32,
      "outputs": [
        {
          "output_type": "execute_result",
          "data": {
            "text/plain": [
              "tensor(2., dtype=torch.float16)"
            ]
          },
          "metadata": {},
          "execution_count": 32
        }
      ]
    },
    {
      "cell_type": "code",
      "source": [
        "torch.argmax(torch.tensor(torch.arange(1, 100, 1)))"
      ],
      "metadata": {
        "colab": {
          "base_uri": "https://localhost:8080/"
        },
        "id": "I40uA-RHgquX",
        "outputId": "04f8a9bb-984b-45df-fbe1-68489063c3cd"
      },
      "execution_count": 33,
      "outputs": [
        {
          "output_type": "stream",
          "name": "stderr",
          "text": [
            "/usr/local/lib/python3.7/dist-packages/ipykernel_launcher.py:1: UserWarning: To copy construct from a tensor, it is recommended to use sourceTensor.clone().detach() or sourceTensor.clone().detach().requires_grad_(True), rather than torch.tensor(sourceTensor).\n",
            "  \"\"\"Entry point for launching an IPython kernel.\n"
          ]
        },
        {
          "output_type": "execute_result",
          "data": {
            "text/plain": [
              "tensor(98)"
            ]
          },
          "metadata": {},
          "execution_count": 33
        }
      ]
    },
    {
      "cell_type": "code",
      "source": [
        "# torch.tensor(torch.arange(1, 100, 1))\n",
        "\n",
        "torch.argmin(torch.tensor(torch.arange(1, 100, 1)))"
      ],
      "metadata": {
        "colab": {
          "base_uri": "https://localhost:8080/"
        },
        "id": "Eas5zeT6hRDk",
        "outputId": "c8d15638-4374-40a8-aabf-0dd614705cd1"
      },
      "execution_count": 34,
      "outputs": [
        {
          "output_type": "stream",
          "name": "stderr",
          "text": [
            "/usr/local/lib/python3.7/dist-packages/ipykernel_launcher.py:3: UserWarning: To copy construct from a tensor, it is recommended to use sourceTensor.clone().detach() or sourceTensor.clone().detach().requires_grad_(True), rather than torch.tensor(sourceTensor).\n",
            "  This is separate from the ipykernel package so we can avoid doing imports until\n"
          ]
        },
        {
          "output_type": "execute_result",
          "data": {
            "text/plain": [
              "tensor(0)"
            ]
          },
          "metadata": {},
          "execution_count": 34
        }
      ]
    },
    {
      "cell_type": "markdown",
      "source": [
        "## Reshaping, stacking, squeezing and unsqueezing tensors\n",
        "\n",
        "* Reshaping - reshapes an input tensor to a defined shape [ref](https://pytorch.org/docs/stable/generated/torch.reshape.html)\n",
        "* View - Return a view of an input tensor of certain shape but keep the same memory as the original tensor [ref](https://pytorch.org/docs/stable/generated/torch.Tensor.view.html)\n",
        "* Stacking - combine multiple tensors on top of each other [vstack](https://pytorch.org/docs/stable/generated/torch.vstack.html) or side by side [hstack](https://pytorch.org/docs/stable/generated/torch.hstack.html) \n",
        "* Squeeze - removes all 1 dimensions from a tensor [ref](https://pytorch.org/docs/stable/generated/torch.squeeze.html)\n",
        "* Unsqueeze - add a 1 dimension to a target tensor [ref](https://pytorch.org/docs/stable/generated/torch.unsqueeze.html)\n",
        "* Permute - return a a view of the input with dimensions permuted (swapped) in a certain way [ref](https://pytorch.org/docs/stable/generated/torch.permute.html)"
      ],
      "metadata": {
        "id": "Rai0JlLYhqdY"
      }
    },
    {
      "cell_type": "code",
      "source": [
        "x = torch.arange(1., 13.)\n",
        "x, x.shape"
      ],
      "metadata": {
        "colab": {
          "base_uri": "https://localhost:8080/"
        },
        "id": "VX8-NSCujVdS",
        "outputId": "47ae381c-4605-4a26-9a78-f23c5fe997ae"
      },
      "execution_count": 46,
      "outputs": [
        {
          "output_type": "execute_result",
          "data": {
            "text/plain": [
              "(tensor([ 1.,  2.,  3.,  4.,  5.,  6.,  7.,  8.,  9., 10., 11., 12.]),\n",
              " torch.Size([12]))"
            ]
          },
          "metadata": {},
          "execution_count": 46
        }
      ]
    },
    {
      "cell_type": "code",
      "source": [
        "# Add extra dimension\n",
        "x_reshaped = x.reshape([1, 12])"
      ],
      "metadata": {
        "id": "YD-8sCl26MXU"
      },
      "execution_count": 52,
      "outputs": []
    },
    {
      "cell_type": "code",
      "source": [
        "x_reshaped"
      ],
      "metadata": {
        "colab": {
          "base_uri": "https://localhost:8080/"
        },
        "id": "Jc6dWJ-p6TYz",
        "outputId": "2c0dcca4-518f-4a06-bcec-c0ba54646af7"
      },
      "execution_count": 53,
      "outputs": [
        {
          "output_type": "execute_result",
          "data": {
            "text/plain": [
              "tensor([[ 1.,  2.,  3.,  4.,  5.,  6.,  7.,  8.,  9., 10., 11., 12.]])"
            ]
          },
          "metadata": {},
          "execution_count": 53
        }
      ]
    },
    {
      "cell_type": "code",
      "source": [
        "# change the view\n",
        "z = x.view(1, 11)\n",
        "z, z.shape"
      ],
      "metadata": {
        "colab": {
          "base_uri": "https://localhost:8080/"
        },
        "id": "qqJMGvAb6VNb",
        "outputId": "319eb09c-9f09-455d-fb08-ef12444d5877"
      },
      "execution_count": 40,
      "outputs": [
        {
          "output_type": "execute_result",
          "data": {
            "text/plain": [
              "(tensor([[ 1.,  2.,  3.,  4.,  5.,  6.,  7.,  8.,  9., 10., 11.]]),\n",
              " torch.Size([1, 11]))"
            ]
          },
          "metadata": {},
          "execution_count": 40
        }
      ]
    },
    {
      "cell_type": "code",
      "source": [
        "# changing x changes x because a view of a tensor shares the same memmory as the original tensor\n",
        "z[:, 0] = 5\n",
        "z, x"
      ],
      "metadata": {
        "colab": {
          "base_uri": "https://localhost:8080/"
        },
        "id": "6NMa7EQe6yu_",
        "outputId": "01faf95f-b1fa-4a20-b874-0fce72453b86"
      },
      "execution_count": 41,
      "outputs": [
        {
          "output_type": "execute_result",
          "data": {
            "text/plain": [
              "(tensor([[ 5.,  2.,  3.,  4.,  5.,  6.,  7.,  8.,  9., 10., 11.]]),\n",
              " tensor([ 5.,  2.,  3.,  4.,  5.,  6.,  7.,  8.,  9., 10., 11.]))"
            ]
          },
          "metadata": {},
          "execution_count": 41
        }
      ]
    },
    {
      "cell_type": "code",
      "source": [
        "# stack tensors on top of each other\n",
        "x_stacked = torch.stack([x, x, x, x], dim=0)\n",
        "x_stacked"
      ],
      "metadata": {
        "colab": {
          "base_uri": "https://localhost:8080/"
        },
        "id": "DUSBufun7I7z",
        "outputId": "fcd2ecbe-0c6b-45c6-dd17-f3fcd98c61b2"
      },
      "execution_count": 44,
      "outputs": [
        {
          "output_type": "execute_result",
          "data": {
            "text/plain": [
              "tensor([[ 5.,  2.,  3.,  4.,  5.,  6.,  7.,  8.,  9., 10., 11.],\n",
              "        [ 5.,  2.,  3.,  4.,  5.,  6.,  7.,  8.,  9., 10., 11.],\n",
              "        [ 5.,  2.,  3.,  4.,  5.,  6.,  7.,  8.,  9., 10., 11.],\n",
              "        [ 5.,  2.,  3.,  4.,  5.,  6.,  7.,  8.,  9., 10., 11.]])"
            ]
          },
          "metadata": {},
          "execution_count": 44
        }
      ]
    },
    {
      "cell_type": "code",
      "source": [
        "# squeeze eXAMPLE\n",
        "x_squeezed = x_reshaped.squeeze()\n",
        "x_squeezed"
      ],
      "metadata": {
        "colab": {
          "base_uri": "https://localhost:8080/"
        },
        "id": "caytPnd27dYx",
        "outputId": "1f2d1849-23a1-409b-be63-c0b5f207db91"
      },
      "execution_count": 55,
      "outputs": [
        {
          "output_type": "execute_result",
          "data": {
            "text/plain": [
              "tensor([ 1.,  2.,  3.,  4.,  5.,  6.,  7.,  8.,  9., 10., 11., 12.])"
            ]
          },
          "metadata": {},
          "execution_count": 55
        }
      ]
    },
    {
      "cell_type": "code",
      "source": [
        "# unsqueeze example\n",
        "x_unsqueezed = x_squeezed.unsqueeze(dim=0)\n",
        "x_unsqueezed"
      ],
      "metadata": {
        "colab": {
          "base_uri": "https://localhost:8080/"
        },
        "id": "diN3HPQi8E0s",
        "outputId": "42f08dc5-7ab7-4424-edea-6158af9cdfed"
      },
      "execution_count": 58,
      "outputs": [
        {
          "output_type": "execute_result",
          "data": {
            "text/plain": [
              "tensor([[ 1.,  2.,  3.,  4.,  5.,  6.,  7.,  8.,  9., 10., 11., 12.]])"
            ]
          },
          "metadata": {},
          "execution_count": 58
        }
      ]
    },
    {
      "cell_type": "code",
      "source": [
        "# tensor permutation example\n",
        "x_original = torch.rand(size=(224, 224, 3)) # (height, width, color channels)\n",
        "x_permuted = x_original.permute(2, 0, 1) # shits axis 0 -->1, 1-->2, 2-->0\n",
        "x_original.shape, x_permuted.shape"
      ],
      "metadata": {
        "colab": {
          "base_uri": "https://localhost:8080/"
        },
        "id": "UvT0EJ7L8zSP",
        "outputId": "e303c265-72df-4517-d4b7-67ef5d197bc5"
      },
      "execution_count": 59,
      "outputs": [
        {
          "output_type": "execute_result",
          "data": {
            "text/plain": [
              "(torch.Size([224, 224, 3]), torch.Size([3, 224, 224]))"
            ]
          },
          "metadata": {},
          "execution_count": 59
        }
      ]
    },
    {
      "cell_type": "code",
      "source": [
        "x_original"
      ],
      "metadata": {
        "colab": {
          "base_uri": "https://localhost:8080/"
        },
        "id": "PsOxgE0B-QuN",
        "outputId": "b8743f31-f801-4d08-9202-e573d45eae0e"
      },
      "execution_count": 60,
      "outputs": [
        {
          "output_type": "execute_result",
          "data": {
            "text/plain": [
              "tensor([[[0.6229, 0.3482, 0.1442],\n",
              "         [0.1681, 0.7941, 0.0084],\n",
              "         [0.1520, 0.0693, 0.1122],\n",
              "         ...,\n",
              "         [0.7057, 0.5575, 0.3282],\n",
              "         [0.2350, 0.3725, 0.5815],\n",
              "         [0.0425, 0.2948, 0.3825]],\n",
              "\n",
              "        [[0.0289, 0.0097, 0.1224],\n",
              "         [0.2823, 0.4431, 0.3916],\n",
              "         [0.3952, 0.7091, 0.7722],\n",
              "         ...,\n",
              "         [0.8048, 0.7297, 0.0439],\n",
              "         [0.0551, 0.7327, 0.7708],\n",
              "         [0.5869, 0.3495, 0.1649]],\n",
              "\n",
              "        [[0.3791, 0.8452, 0.7974],\n",
              "         [0.5965, 0.9772, 0.3181],\n",
              "         [0.8058, 0.0299, 0.8474],\n",
              "         ...,\n",
              "         [0.6794, 0.3207, 0.4525],\n",
              "         [0.4093, 0.7428, 0.6034],\n",
              "         [0.7221, 0.2344, 0.1009]],\n",
              "\n",
              "        ...,\n",
              "\n",
              "        [[0.3292, 0.3373, 0.6414],\n",
              "         [0.3192, 0.1791, 0.4720],\n",
              "         [0.9559, 0.0526, 0.8803],\n",
              "         ...,\n",
              "         [0.8230, 0.1991, 0.2005],\n",
              "         [0.9047, 0.4596, 0.6571],\n",
              "         [0.8538, 0.1481, 0.2873]],\n",
              "\n",
              "        [[0.6073, 0.8400, 0.4424],\n",
              "         [0.0126, 0.5707, 0.9165],\n",
              "         [0.2624, 0.3831, 0.4876],\n",
              "         ...,\n",
              "         [0.4057, 0.0286, 0.4021],\n",
              "         [0.7488, 0.2390, 0.6732],\n",
              "         [0.0972, 0.1003, 0.7593]],\n",
              "\n",
              "        [[0.9017, 0.1553, 0.7619],\n",
              "         [0.1887, 0.6313, 0.8327],\n",
              "         [0.2191, 0.2241, 0.1881],\n",
              "         ...,\n",
              "         [0.4642, 0.5715, 0.2379],\n",
              "         [0.0384, 0.3159, 0.7902],\n",
              "         [0.8094, 0.9983, 0.7448]]])"
            ]
          },
          "metadata": {},
          "execution_count": 60
        }
      ]
    },
    {
      "cell_type": "code",
      "source": [
        "x_original[0, 0, 0] = 1e3"
      ],
      "metadata": {
        "id": "CCI86Nxw-eyz"
      },
      "execution_count": 62,
      "outputs": []
    },
    {
      "cell_type": "code",
      "source": [
        "x_original"
      ],
      "metadata": {
        "colab": {
          "base_uri": "https://localhost:8080/"
        },
        "id": "ffrQJ8Tt-hPb",
        "outputId": "92a7e023-ab94-4918-8f92-e90605fb3eb3"
      },
      "execution_count": 63,
      "outputs": [
        {
          "output_type": "execute_result",
          "data": {
            "text/plain": [
              "tensor([[[1.0000e+03, 3.4820e-01, 1.4416e-01],\n",
              "         [1.6812e-01, 7.9410e-01, 8.3657e-03],\n",
              "         [1.5203e-01, 6.9328e-02, 1.1217e-01],\n",
              "         ...,\n",
              "         [7.0573e-01, 5.5750e-01, 3.2819e-01],\n",
              "         [2.3496e-01, 3.7246e-01, 5.8155e-01],\n",
              "         [4.2501e-02, 2.9485e-01, 3.8253e-01]],\n",
              "\n",
              "        [[2.8862e-02, 9.6716e-03, 1.2239e-01],\n",
              "         [2.8231e-01, 4.4306e-01, 3.9157e-01],\n",
              "         [3.9519e-01, 7.0911e-01, 7.7223e-01],\n",
              "         ...,\n",
              "         [8.0476e-01, 7.2967e-01, 4.3939e-02],\n",
              "         [5.5097e-02, 7.3272e-01, 7.7084e-01],\n",
              "         [5.8688e-01, 3.4951e-01, 1.6491e-01]],\n",
              "\n",
              "        [[3.7912e-01, 8.4515e-01, 7.9739e-01],\n",
              "         [5.9648e-01, 9.7722e-01, 3.1811e-01],\n",
              "         [8.0582e-01, 2.9937e-02, 8.4740e-01],\n",
              "         ...,\n",
              "         [6.7937e-01, 3.2067e-01, 4.5249e-01],\n",
              "         [4.0933e-01, 7.4282e-01, 6.0339e-01],\n",
              "         [7.2208e-01, 2.3440e-01, 1.0090e-01]],\n",
              "\n",
              "        ...,\n",
              "\n",
              "        [[3.2920e-01, 3.3733e-01, 6.4144e-01],\n",
              "         [3.1923e-01, 1.7911e-01, 4.7202e-01],\n",
              "         [9.5588e-01, 5.2631e-02, 8.8029e-01],\n",
              "         ...,\n",
              "         [8.2301e-01, 1.9906e-01, 2.0046e-01],\n",
              "         [9.0470e-01, 4.5965e-01, 6.5709e-01],\n",
              "         [8.5377e-01, 1.4815e-01, 2.8734e-01]],\n",
              "\n",
              "        [[6.0732e-01, 8.4002e-01, 4.4238e-01],\n",
              "         [1.2630e-02, 5.7066e-01, 9.1653e-01],\n",
              "         [2.6241e-01, 3.8306e-01, 4.8764e-01],\n",
              "         ...,\n",
              "         [4.0571e-01, 2.8642e-02, 4.0212e-01],\n",
              "         [7.4881e-01, 2.3900e-01, 6.7320e-01],\n",
              "         [9.7158e-02, 1.0032e-01, 7.5929e-01]],\n",
              "\n",
              "        [[9.0167e-01, 1.5529e-01, 7.6188e-01],\n",
              "         [1.8872e-01, 6.3131e-01, 8.3272e-01],\n",
              "         [2.1915e-01, 2.2413e-01, 1.8811e-01],\n",
              "         ...,\n",
              "         [4.6417e-01, 5.7150e-01, 2.3793e-01],\n",
              "         [3.8410e-02, 3.1593e-01, 7.9024e-01],\n",
              "         [8.0938e-01, 9.9829e-01, 7.4480e-01]]])"
            ]
          },
          "metadata": {},
          "execution_count": 63
        }
      ]
    },
    {
      "cell_type": "code",
      "source": [
        "x_permuted"
      ],
      "metadata": {
        "colab": {
          "base_uri": "https://localhost:8080/"
        },
        "id": "rfjdGTpJ-mGT",
        "outputId": "4b44d014-a2db-4805-8ee1-1045c90e7ff8"
      },
      "execution_count": 64,
      "outputs": [
        {
          "output_type": "execute_result",
          "data": {
            "text/plain": [
              "tensor([[[1.0000e+03, 1.6812e-01, 1.5203e-01,  ..., 7.0573e-01,\n",
              "          2.3496e-01, 4.2501e-02],\n",
              "         [2.8862e-02, 2.8231e-01, 3.9519e-01,  ..., 8.0476e-01,\n",
              "          5.5097e-02, 5.8688e-01],\n",
              "         [3.7912e-01, 5.9648e-01, 8.0582e-01,  ..., 6.7937e-01,\n",
              "          4.0933e-01, 7.2208e-01],\n",
              "         ...,\n",
              "         [3.2920e-01, 3.1923e-01, 9.5588e-01,  ..., 8.2301e-01,\n",
              "          9.0470e-01, 8.5377e-01],\n",
              "         [6.0732e-01, 1.2630e-02, 2.6241e-01,  ..., 4.0571e-01,\n",
              "          7.4881e-01, 9.7158e-02],\n",
              "         [9.0167e-01, 1.8872e-01, 2.1915e-01,  ..., 4.6417e-01,\n",
              "          3.8410e-02, 8.0938e-01]],\n",
              "\n",
              "        [[3.4820e-01, 7.9410e-01, 6.9328e-02,  ..., 5.5750e-01,\n",
              "          3.7246e-01, 2.9485e-01],\n",
              "         [9.6716e-03, 4.4306e-01, 7.0911e-01,  ..., 7.2967e-01,\n",
              "          7.3272e-01, 3.4951e-01],\n",
              "         [8.4515e-01, 9.7722e-01, 2.9937e-02,  ..., 3.2067e-01,\n",
              "          7.4282e-01, 2.3440e-01],\n",
              "         ...,\n",
              "         [3.3733e-01, 1.7911e-01, 5.2631e-02,  ..., 1.9906e-01,\n",
              "          4.5965e-01, 1.4815e-01],\n",
              "         [8.4002e-01, 5.7066e-01, 3.8306e-01,  ..., 2.8642e-02,\n",
              "          2.3900e-01, 1.0032e-01],\n",
              "         [1.5529e-01, 6.3131e-01, 2.2413e-01,  ..., 5.7150e-01,\n",
              "          3.1593e-01, 9.9829e-01]],\n",
              "\n",
              "        [[1.4416e-01, 8.3657e-03, 1.1217e-01,  ..., 3.2819e-01,\n",
              "          5.8155e-01, 3.8253e-01],\n",
              "         [1.2239e-01, 3.9157e-01, 7.7223e-01,  ..., 4.3939e-02,\n",
              "          7.7084e-01, 1.6491e-01],\n",
              "         [7.9739e-01, 3.1811e-01, 8.4740e-01,  ..., 4.5249e-01,\n",
              "          6.0339e-01, 1.0090e-01],\n",
              "         ...,\n",
              "         [6.4144e-01, 4.7202e-01, 8.8029e-01,  ..., 2.0046e-01,\n",
              "          6.5709e-01, 2.8734e-01],\n",
              "         [4.4238e-01, 9.1653e-01, 4.8764e-01,  ..., 4.0212e-01,\n",
              "          6.7320e-01, 7.5929e-01],\n",
              "         [7.6188e-01, 8.3272e-01, 1.8811e-01,  ..., 2.3793e-01,\n",
              "          7.9024e-01, 7.4480e-01]]])"
            ]
          },
          "metadata": {},
          "execution_count": 64
        }
      ]
    },
    {
      "cell_type": "markdown",
      "source": [
        "As we can see changing the first element of ```x_original``` changes the first element of ```x_permuted```.\n",
        "\n",
        "Now we'll take take a look at tensor indexing\n",
        "\n",
        "\n",
        "\n",
        "\n"
      ],
      "metadata": {
        "id": "LVjZPW0G--WS"
      }
    },
    {
      "cell_type": "code",
      "source": [
        "# create another tensor\n",
        "x = torch.arange(1, 10).reshape(1, 3, 3)\n",
        "x, x.shape"
      ],
      "metadata": {
        "colab": {
          "base_uri": "https://localhost:8080/"
        },
        "id": "Dgv8v7YB-n6R",
        "outputId": "092652f8-137e-46e8-ec84-0fd8a83c0a89"
      },
      "execution_count": 65,
      "outputs": [
        {
          "output_type": "execute_result",
          "data": {
            "text/plain": [
              "(tensor([[[1, 2, 3],\n",
              "          [4, 5, 6],\n",
              "          [7, 8, 9]]]), torch.Size([1, 3, 3]))"
            ]
          },
          "metadata": {},
          "execution_count": 65
        }
      ]
    },
    {
      "cell_type": "code",
      "source": [
        "x[0]"
      ],
      "metadata": {
        "colab": {
          "base_uri": "https://localhost:8080/"
        },
        "id": "hWRyDoKF_g_P",
        "outputId": "1b4c77b0-0da7-4e1c-a5bf-3d35cf85f39a"
      },
      "execution_count": 66,
      "outputs": [
        {
          "output_type": "execute_result",
          "data": {
            "text/plain": [
              "tensor([[1, 2, 3],\n",
              "        [4, 5, 6],\n",
              "        [7, 8, 9]])"
            ]
          },
          "metadata": {},
          "execution_count": 66
        }
      ]
    },
    {
      "cell_type": "code",
      "source": [
        "x[0][0]"
      ],
      "metadata": {
        "colab": {
          "base_uri": "https://localhost:8080/"
        },
        "id": "v54wa0Xi_mUB",
        "outputId": "97670d7a-e109-4b82-ead2-90e102a347c6"
      },
      "execution_count": 68,
      "outputs": [
        {
          "output_type": "execute_result",
          "data": {
            "text/plain": [
              "tensor([1, 2, 3])"
            ]
          },
          "metadata": {},
          "execution_count": 68
        }
      ]
    },
    {
      "cell_type": "code",
      "source": [
        "x[0][0][0]"
      ],
      "metadata": {
        "colab": {
          "base_uri": "https://localhost:8080/"
        },
        "id": "I2E41faK_oZS",
        "outputId": "cb7c913f-e21e-4b82-b14d-022e271557c8"
      },
      "execution_count": 69,
      "outputs": [
        {
          "output_type": "execute_result",
          "data": {
            "text/plain": [
              "tensor(1)"
            ]
          },
          "metadata": {},
          "execution_count": 69
        }
      ]
    },
    {
      "cell_type": "code",
      "source": [
        "x[0][2][2]"
      ],
      "metadata": {
        "colab": {
          "base_uri": "https://localhost:8080/"
        },
        "id": "0ICfmemR_uHR",
        "outputId": "0f87d511-8e3b-4ed8-fbaf-dd020517c540"
      },
      "execution_count": 70,
      "outputs": [
        {
          "output_type": "execute_result",
          "data": {
            "text/plain": [
              "tensor(9)"
            ]
          },
          "metadata": {},
          "execution_count": 70
        }
      ]
    },
    {
      "cell_type": "code",
      "source": [
        "x[:, 0]"
      ],
      "metadata": {
        "colab": {
          "base_uri": "https://localhost:8080/"
        },
        "id": "CiavblAhAA4P",
        "outputId": "107f70fe-b08a-45a8-d22a-4e5c73d88ab7"
      },
      "execution_count": 72,
      "outputs": [
        {
          "output_type": "execute_result",
          "data": {
            "text/plain": [
              "tensor([[1, 2, 3]])"
            ]
          },
          "metadata": {},
          "execution_count": 72
        }
      ]
    },
    {
      "cell_type": "code",
      "source": [
        "x[:, :, 1]"
      ],
      "metadata": {
        "colab": {
          "base_uri": "https://localhost:8080/"
        },
        "id": "VRTO9N_ZAETX",
        "outputId": "a78ab063-4a34-4f3e-c4ef-1de727d57a11"
      },
      "execution_count": 73,
      "outputs": [
        {
          "output_type": "execute_result",
          "data": {
            "text/plain": [
              "tensor([[2, 5, 8]])"
            ]
          },
          "metadata": {},
          "execution_count": 73
        }
      ]
    },
    {
      "cell_type": "code",
      "source": [
        "x[:, 1, 1]"
      ],
      "metadata": {
        "colab": {
          "base_uri": "https://localhost:8080/"
        },
        "id": "SJoFK2z9AJUG",
        "outputId": "2b22df4c-2c6e-44a0-8ae6-db4739f724ca"
      },
      "execution_count": 74,
      "outputs": [
        {
          "output_type": "execute_result",
          "data": {
            "text/plain": [
              "tensor([5])"
            ]
          },
          "metadata": {},
          "execution_count": 74
        }
      ]
    },
    {
      "cell_type": "code",
      "source": [
        "x[0, 1, 1]"
      ],
      "metadata": {
        "colab": {
          "base_uri": "https://localhost:8080/"
        },
        "id": "p_PFgDEOAR99",
        "outputId": "8046f48e-dfad-48b2-fa49-e5462873a915"
      },
      "execution_count": 75,
      "outputs": [
        {
          "output_type": "execute_result",
          "data": {
            "text/plain": [
              "tensor(5)"
            ]
          },
          "metadata": {},
          "execution_count": 75
        }
      ]
    },
    {
      "cell_type": "code",
      "source": [
        "x[0, 0, :]"
      ],
      "metadata": {
        "colab": {
          "base_uri": "https://localhost:8080/"
        },
        "id": "99Q9RcS6AW_M",
        "outputId": "44844434-55e0-4d25-9fd0-3aa5fed95682"
      },
      "execution_count": 76,
      "outputs": [
        {
          "output_type": "execute_result",
          "data": {
            "text/plain": [
              "tensor([1, 2, 3])"
            ]
          },
          "metadata": {},
          "execution_count": 76
        }
      ]
    },
    {
      "cell_type": "code",
      "source": [
        "x[:, 2, :]"
      ],
      "metadata": {
        "colab": {
          "base_uri": "https://localhost:8080/"
        },
        "id": "5qIvW2ZoAbp7",
        "outputId": "616aad6a-89ca-4c06-cee0-a47eefe1dc62"
      },
      "execution_count": 80,
      "outputs": [
        {
          "output_type": "execute_result",
          "data": {
            "text/plain": [
              "tensor([[7, 8, 9]])"
            ]
          },
          "metadata": {},
          "execution_count": 80
        }
      ]
    },
    {
      "cell_type": "code",
      "source": [
        "x[0, 2, :]"
      ],
      "metadata": {
        "colab": {
          "base_uri": "https://localhost:8080/"
        },
        "id": "RFWDCtArAs_Y",
        "outputId": "ef6b28c4-be63-446b-bd06-aad3728aa568"
      },
      "execution_count": 81,
      "outputs": [
        {
          "output_type": "execute_result",
          "data": {
            "text/plain": [
              "tensor([7, 8, 9])"
            ]
          },
          "metadata": {},
          "execution_count": 81
        }
      ]
    },
    {
      "cell_type": "code",
      "source": [
        "x[:, :, 2]"
      ],
      "metadata": {
        "colab": {
          "base_uri": "https://localhost:8080/"
        },
        "id": "ih7kMrCtAizI",
        "outputId": "fb75a5fb-a566-4e6b-ddbb-6e6d7155d859"
      },
      "execution_count": 79,
      "outputs": [
        {
          "output_type": "execute_result",
          "data": {
            "text/plain": [
              "tensor([[3, 6, 9]])"
            ]
          },
          "metadata": {},
          "execution_count": 79
        }
      ]
    },
    {
      "cell_type": "markdown",
      "source": [
        "## PyTorch tensors and Numpy\n",
        "\n",
        "Numpy is a popular numberic library in Python\n",
        "And so PyToch has funcationality to interact with it\n",
        "\n",
        "* Data in Numpy, we want to convert it to PyTorch tensor --> ```torch.from_numpy(ndarray)```\n",
        "* PyTorch tensor --> Numpy: ```torch.Tensor.numpy()```\n",
        "\n",
        "NB: When converting from numpy array to PyTorch tensor using torch.from_numpy(ndarray), the resulting tensor assumes the default numpy data type which is float64 for floating point numbers"
      ],
      "metadata": {
        "id": "w7cpD-y1Aldr"
      }
    },
    {
      "cell_type": "code",
      "source": [
        "import numpy as np\n",
        "array = np.arange(1., 8.)\n",
        "tensor = torch.from_numpy(array) \n",
        "array, tensor"
      ],
      "metadata": {
        "colab": {
          "base_uri": "https://localhost:8080/"
        },
        "id": "bVBzzzzFAwsp",
        "outputId": "01c4733d-e315-44db-e904-6b356c0dc08c"
      },
      "execution_count": 88,
      "outputs": [
        {
          "output_type": "execute_result",
          "data": {
            "text/plain": [
              "(array([1., 2., 3., 4., 5., 6., 7.]),\n",
              " tensor([1., 2., 3., 4., 5., 6., 7.], dtype=torch.float64))"
            ]
          },
          "metadata": {},
          "execution_count": 88
        }
      ]
    },
    {
      "cell_type": "code",
      "source": [
        "array.dtype, tensor.dtype"
      ],
      "metadata": {
        "colab": {
          "base_uri": "https://localhost:8080/"
        },
        "id": "MZkv3wTqBuly",
        "outputId": "f1abdb7d-4d5d-4704-f84f-a9902b49993b"
      },
      "execution_count": 89,
      "outputs": [
        {
          "output_type": "execute_result",
          "data": {
            "text/plain": [
              "(dtype('float64'), torch.float64)"
            ]
          },
          "metadata": {},
          "execution_count": 89
        }
      ]
    },
    {
      "cell_type": "markdown",
      "source": [
        "What happens if we changed the numpy array, does that change the tensor we created from the array? It does not\n",
        "\n"
      ],
      "metadata": {
        "id": "O1YpFv0VCJvO"
      }
    },
    {
      "cell_type": "code",
      "source": [
        "array = array * 2\n",
        "array, tensor"
      ],
      "metadata": {
        "colab": {
          "base_uri": "https://localhost:8080/"
        },
        "id": "BHBfxe7OEHiB",
        "outputId": "61dcbca6-86c6-4748-c21e-743f99aef27b"
      },
      "execution_count": 90,
      "outputs": [
        {
          "output_type": "execute_result",
          "data": {
            "text/plain": [
              "(array([ 2.,  4.,  6.,  8., 10., 12., 14.]),\n",
              " tensor([1., 2., 3., 4., 5., 6., 7.], dtype=torch.float64))"
            ]
          },
          "metadata": {},
          "execution_count": 90
        }
      ]
    },
    {
      "cell_type": "markdown",
      "source": [
        "Let's try converting a PyTorch tensor to a Numpy array"
      ],
      "metadata": {
        "id": "L0O4t-hWEKMo"
      }
    },
    {
      "cell_type": "code",
      "source": [
        "tensor_new = torch.ones(7)\n",
        "numpy_array = tensor_new.numpy()\n",
        "tensor_new, numpy_array"
      ],
      "metadata": {
        "colab": {
          "base_uri": "https://localhost:8080/"
        },
        "id": "FYji8_bsESU3",
        "outputId": "107276dd-263f-42f6-9af0-a9a018b73f1e"
      },
      "execution_count": 92,
      "outputs": [
        {
          "output_type": "execute_result",
          "data": {
            "text/plain": [
              "(tensor([1., 1., 1., 1., 1., 1., 1.]),\n",
              " array([1., 1., 1., 1., 1., 1., 1.], dtype=float32))"
            ]
          },
          "metadata": {},
          "execution_count": 92
        }
      ]
    },
    {
      "cell_type": "markdown",
      "source": [
        "What happens if we changed the PyTorch tensor, does that change the numpy array we created from the tensor? It does not\n",
        "\n",
        "\n",
        "## Reproducibility \n",
        "\n",
        "To reduce randomness in neural networks and PyTorch comes the concept of a **radnom seed**"
      ],
      "metadata": {
        "id": "qqtPJU9AEmW1"
      }
    },
    {
      "cell_type": "code",
      "source": [
        "random_tensor_A = torch.rand(3, 4)\n",
        "random_tensor_B = torch.rand(3, 4)\n",
        "print(random_tensor_A)\n",
        "print(random_tensor_B)\n",
        "print(random_tensor_A == random_tensor_B)"
      ],
      "metadata": {
        "colab": {
          "base_uri": "https://localhost:8080/"
        },
        "id": "JenMhonnFY_b",
        "outputId": "473214b9-28a9-45e6-d344-b73e537d3af2"
      },
      "execution_count": 93,
      "outputs": [
        {
          "output_type": "stream",
          "name": "stdout",
          "text": [
            "tensor([[0.2466, 0.2697, 0.5057, 0.4214],\n",
            "        [0.1252, 0.6979, 0.8581, 0.8688],\n",
            "        [0.2257, 0.9919, 0.7657, 0.2513]])\n",
            "tensor([[0.6365, 0.0579, 0.7894, 0.7776],\n",
            "        [0.9130, 0.6509, 0.3219, 0.0970],\n",
            "        [0.4208, 0.9267, 0.0805, 0.5446]])\n",
            "tensor([[False, False, False, False],\n",
            "        [False, False, False, False],\n",
            "        [False, False, False, False]])\n"
          ]
        }
      ]
    },
    {
      "cell_type": "code",
      "source": [
        "# Now lets try to generate some random but reproducible tensors\n",
        "# We will start with selecting the random seed\n",
        "RSEED = 42\n",
        "torch.manual_seed(RSEED)\n",
        "random_tensor_C = torch.rand(3, 4)\n",
        "torch.manual_seed(RSEED)\n",
        "random_tensor_D = torch.rand(3, 4)\n",
        "print(random_tensor_C)\n",
        "print(random_tensor_D)\n",
        "print(random_tensor_C == random_tensor_D)"
      ],
      "metadata": {
        "colab": {
          "base_uri": "https://localhost:8080/"
        },
        "id": "6kH4k-tqFqzn",
        "outputId": "6edcd929-500e-41a8-e57c-3e2378c580e6"
      },
      "execution_count": 94,
      "outputs": [
        {
          "output_type": "stream",
          "name": "stdout",
          "text": [
            "tensor([[0.8823, 0.9150, 0.3829, 0.9593],\n",
            "        [0.3904, 0.6009, 0.2566, 0.7936],\n",
            "        [0.9408, 0.1332, 0.9346, 0.5936]])\n",
            "tensor([[0.8823, 0.9150, 0.3829, 0.9593],\n",
            "        [0.3904, 0.6009, 0.2566, 0.7936],\n",
            "        [0.9408, 0.1332, 0.9346, 0.5936]])\n",
            "tensor([[True, True, True, True],\n",
            "        [True, True, True, True],\n",
            "        [True, True, True, True]])\n"
          ]
        }
      ]
    },
    {
      "cell_type": "markdown",
      "source": [
        "## Performing computation on tensors using GPUs\n",
        "GPU options:\n",
        "* Google colab (can upgrade to pro and pro+)\n",
        "* Own GPU\n",
        "* Cloud based options such as GCP, AWS etc.\n"
      ],
      "metadata": {
        "id": "V0dP1c4FGP3u"
      }
    }
  ]
}